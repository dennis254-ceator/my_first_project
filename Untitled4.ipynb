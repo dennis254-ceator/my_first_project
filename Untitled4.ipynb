{
  "nbformat": 4,
  "nbformat_minor": 0,
  "metadata": {
    "colab": {
      "provenance": [],
      "toc_visible": true
    },
    "kernelspec": {
      "name": "python3",
      "display_name": "Python 3"
    },
    "language_info": {
      "name": "python"
    }
  },
  "cells": [
    {
      "cell_type": "code",
      "execution_count": 1,
      "metadata": {
        "colab": {
          "base_uri": "https://localhost:8080/",
          "height": 556
        },
        "id": "WzKLz_9dz5qb",
        "outputId": "4ba90415-4a8d-46d8-da82-e8f8d0e13730"
      },
      "outputs": [
        {
          "output_type": "stream",
          "name": "stdout",
          "text": [
            "Accuracy: 0.5\n",
            "Confusion Matrix:\n",
            "[[1 0]\n",
            " [1 0]]\n"
          ]
        },
        {
          "output_type": "display_data",
          "data": {
            "text/plain": [
              "<Figure size 640x480 with 1 Axes>"
            ],
            "image/png": "[encoded data removed]"
          },
          "metadata": {}
        },
        {
          "output_type": "stream",
          "name": "stdout",
          "text": [
            "\n",
            "Default Risk Prediction (1=high risk, 0=low risk): 0\n"
          ]
        }
      ],
      "source": [
        "# Financial Risk Assessment Tool for Kenya\n",
        "# Requires: pandas, numpy, scikit-learn, matplotlib\n",
        "\n",
        "import pandas as pd\n",
        "import numpy as np\n",
        "from sklearn.model_selection import train_test_split\n",
        "from sklearn.ensemble import RandomForestClassifier\n",
        "from sklearn.metrics import accuracy_score, confusion_matrix\n",
        "import matplotlib.pyplot as plt\n",
        "\n",
        "# Sample dataset (replace with real data)\n",
        "data = {\n",
        "    'age': [25, 35, 45, 30, 50, 28, 33, 40, 60, 55],\n",
        "    'income': [50000, 120000, 300000, 80000, 450000, 60000, 95000, 280000, 150000, 320000],\n",
        "    'loan_amount': [200000, 500000, 1000000, 300000, 1500000, 250000, 400000, 800000, 500000, 900000],\n",
        "    'credit_history': [0, 1, 1, 0, 1, 0, 1, 1, 0, 1],\n",
        "    'employment_status': [0, 1, 1, 0, 1, 0, 1, 1, 0, 1],  # 0=unemployed, 1=employed\n",
        "    'default': [1, 0, 0, 1, 0, 1, 0, 0, 1, 0]  # Target variable\n",
        "}\n",
        "\n",
        "df = pd.DataFrame(data)\n",
        "\n",
        "# Feature engineering for Kenyan context\n",
        "def add_risk_features(df):\n",
        "    # Debt-to-income ratio\n",
        "    df['dti'] = df['loan_amount'] / df['income']\n",
        "    # Age categorization\n",
        "    df['age_group'] = pd.cut(df['age'], bins=[20, 30, 40, 50, 60], labels=[1, 2, 3, 4])\n",
        "    return df\n",
        "\n",
        "df = add_risk_features(df)\n",
        "\n",
        "# Split data\n",
        "X = df.drop('default', axis=1)\n",
        "y = df['default']\n",
        "X_train, X_test, y_train, y_test = train_test_split(X, y, test_size=0.2, random_state=42)\n",
        "\n",
        "# Train model\n",
        "model = RandomForestClassifier(n_estimators=100, random_state=42)\n",
        "model.fit(X_train, y_train)\n",
        "\n",
        "# Evaluate\n",
        "y_pred = model.predict(X_test)\n",
        "print(f\"Accuracy: {accuracy_score(y_test, y_pred)}\")\n",
        "print(\"Confusion Matrix:\")\n",
        "print(confusion_matrix(y_test, y_pred))\n",
        "\n",
        "# Feature importance\n",
        "features = X.columns\n",
        "importances = model.feature_importances_\n",
        "plt.barh(features, importances)\n",
        "plt.title(\"Feature Importance in Credit Risk Assessment\")\n",
        "plt.show()\n",
        "\n",
        "# Example prediction\n",
        "new_applicant = pd.DataFrame({\n",
        "    'age': [32],\n",
        "    'income': [85000],\n",
        "    'loan_amount': [400000],\n",
        "    'credit_history': [1],\n",
        "    'employment_status': [1],\n",
        "    'dti': [400000/85000],\n",
        "    'age_group': [2]\n",
        "})\n",
        "\n",
        "prediction = model.predict(new_applicant)\n",
        "print(f\"\\nDefault Risk Prediction (1=high risk, 0=low risk): {prediction[0]}\")"
      ]
    },
    {
      "cell_type": "code",
      "source": [
        "# Example additional features\n",
        "df['mobile_money_usage'] = [5, 20, 8, 12, 3, 15, 10, 7, 2, 9]  # Monthly transactions\n",
        "df['agricultural_income'] = [0, 1, 0, 1, 1, 0, 1, 0, 0, 1]  # 1=has agricultural income"
      ],
      "metadata": {
        "id": "8ixx7qBM0ApR"
      },
      "execution_count": 2,
      "outputs": []
    },
    {
      "cell_type": "code",
      "source": [
        "# Example API integration for Kenyan data\n",
        "import requests\n",
        "\n",
        "def get_cbk_rates():\n",
        "    url = \"https://api.centralbank.go.ke/v1/markets/forex\"\n",
        "    response = requests.get(url)\n",
        "    return response.json()\n",
        "\n",
        "def get_inflation_data():\n",
        "    url = \"https://knbs.or.ke/api/inflation\"\n",
        "    response = requests.get(url)\n",
        "    return response.json()"
      ],
      "metadata": {
        "id": "fF87DGbX0F4u"
      },
      "execution_count": 3,
      "outputs": []
    }
  ]
}